{
 "cells": [
  {
   "cell_type": "code",
   "execution_count": 1,
   "id": "aea7533f-9c62-4200-ac34-234f0da88ebb",
   "metadata": {
    "tags": []
   },
   "outputs": [],
   "source": [
    "package main\n",
    "\n",
    "import (\n",
    "    \"fmt\"\n",
    "    \"runtime\"\n",
    "    \"sort\"\n",
    ")"
   ]
  },
  {
   "cell_type": "code",
   "execution_count": 2,
   "id": "4706f28b-7fcd-4320-909d-fef89a59dc19",
   "metadata": {
    "tags": []
   },
   "outputs": [
    {
     "name": "stdout",
     "output_type": "stream",
     "text": [
      "go1.20.3\n"
     ]
    },
    {
     "data": {
      "text/plain": [
       "9 <nil>"
      ]
     },
     "execution_count": 2,
     "metadata": {},
     "output_type": "execute_result"
    }
   ],
   "source": [
    "fmt.Println(runtime.Version())"
   ]
  },
  {
   "cell_type": "code",
   "execution_count": 3,
   "id": "4c716e3b-9b4b-4d65-a282-7bee3382847d",
   "metadata": {
    "tags": []
   },
   "outputs": [
    {
     "name": "stdout",
     "output_type": "stream",
     "text": [
      "Hello from Jupyter desktop app\n"
     ]
    },
    {
     "data": {
      "text/plain": [
       "31 <nil>"
      ]
     },
     "execution_count": 3,
     "metadata": {},
     "output_type": "execute_result"
    }
   ],
   "source": [
    "fmt.Println(\"Hello from Jupyter desktop app\")"
   ]
  },
  {
   "cell_type": "markdown",
   "id": "c98ffca5-ab4d-4094-9c3f-ff21eca65285",
   "metadata": {},
   "source": [
    "## map"
   ]
  },
  {
   "cell_type": "code",
   "execution_count": 4,
   "id": "086a1edc-8126-459f-9dee-2d1ece29c612",
   "metadata": {
    "tags": []
   },
   "outputs": [
    {
     "name": "stdout",
     "output_type": "stream",
     "text": [
      "map[Bob:18 John:21 Mark:33]\n"
     ]
    },
    {
     "data": {
      "text/plain": [
       "28 <nil>"
      ]
     },
     "execution_count": 4,
     "metadata": {},
     "output_type": "execute_result"
    }
   ],
   "source": [
    "m := make(map[string]int)\n",
    "m[\"John\"] = 21\n",
    "m[\"Bob\"] = 18\n",
    "m[\"Mark\"] = 33\n",
    "fmt.Println(m)"
   ]
  },
  {
   "cell_type": "code",
   "execution_count": 5,
   "id": "b647cb6e-0d42-4191-8b4d-92e30b296ff9",
   "metadata": {
    "tags": []
   },
   "outputs": [
    {
     "name": "stdout",
     "output_type": "stream",
     "text": [
      "map[Bob:18 John:21 Mark:33]\n"
     ]
    },
    {
     "data": {
      "text/plain": [
       "28 <nil>"
      ]
     },
     "execution_count": 5,
     "metadata": {},
     "output_type": "execute_result"
    }
   ],
   "source": [
    "m:= make(map[string]int, 10)\n",
    "m[\"John\"] = 21\n",
    "m[\"Bob\"] = 18\n",
    "m[\"Mark\"] = 33\n",
    "fmt.Println(m)"
   ]
  },
  {
   "cell_type": "code",
   "execution_count": 6,
   "id": "c0360d3e-590c-47fd-a331-eb725be0f057",
   "metadata": {
    "tags": []
   },
   "outputs": [
    {
     "name": "stdout",
     "output_type": "stream",
     "text": [
      "map[Bob:18 John:21]\n"
     ]
    },
    {
     "data": {
      "text/plain": [
       "20 <nil>"
      ]
     },
     "execution_count": 6,
     "metadata": {},
     "output_type": "execute_result"
    }
   ],
   "source": [
    "delete(m, \"Mark\")\n",
    "fmt.Println(m)"
   ]
  },
  {
   "cell_type": "code",
   "execution_count": 7,
   "id": "299a7996-9cae-4227-9eb1-7015ee65c0d5",
   "metadata": {
    "tags": []
   },
   "outputs": [
    {
     "name": "stdout",
     "output_type": "stream",
     "text": [
      "key: Bob, value: 18\n",
      "key: John, value: 21\n"
     ]
    }
   ],
   "source": [
    "keys := []string{}\n",
    "for k := range m {\n",
    "    keys = append(keys, k)\n",
    "}\n",
    "sort.Strings(keys)\n",
    "for _, k := range keys {\n",
    "    fmt.Printf(\"key: %v, value: %v\\n\", k, m[k])\n",
    "}"
   ]
  },
  {
   "cell_type": "markdown",
   "id": "0e2db1ac-4c4b-4327-a793-a5f86db7384f",
   "metadata": {},
   "source": [
    "## type"
   ]
  },
  {
   "cell_type": "code",
   "execution_count": 8,
   "id": "73fdf029-294b-4d01-a0c5-3c343c92be91",
   "metadata": {
    "tags": []
   },
   "outputs": [
    {
     "name": "stdout",
     "output_type": "stream",
     "text": [
      "foo\n",
      "string"
     ]
    },
    {
     "data": {
      "text/plain": [
       "6 <nil>"
      ]
     },
     "execution_count": 8,
     "metadata": {},
     "output_type": "execute_result"
    }
   ],
   "source": [
    "type MyString string\n",
    "\n",
    "var m MyString\n",
    "m = \"foo\"\n",
    "fmt.Println(m)\n",
    "fmt.Printf(\"%T\", m)"
   ]
  },
  {
   "cell_type": "code",
   "execution_count": 9,
   "id": "38dc4107-9914-4d03-8fb4-4133767b8564",
   "metadata": {
    "tags": []
   },
   "outputs": [
    {
     "name": "stdout",
     "output_type": "stream",
     "text": [
      "bar\n",
      "string"
     ]
    },
    {
     "data": {
      "text/plain": [
       "6 <nil>"
      ]
     },
     "execution_count": 9,
     "metadata": {},
     "output_type": "execute_result"
    }
   ],
   "source": [
    "var m MyString\n",
    "m = \"bar\"\n",
    "s := string(m)\n",
    "fmt.Println(s)\n",
    "fmt.Printf(\"%T\", s)"
   ]
  },
  {
   "cell_type": "markdown",
   "id": "73728e7c-8df5-4525-9d72-edc0ca566dfd",
   "metadata": {},
   "source": [
    "## struct"
   ]
  },
  {
   "cell_type": "code",
   "execution_count": 10,
   "id": "57decae6-abb8-4ed1-b47e-23d9034a7e62",
   "metadata": {
    "tags": []
   },
   "outputs": [],
   "source": [
    "type User struct {\n",
    "    Name string\n",
    "    Age int\n",
    "}"
   ]
  },
  {
   "cell_type": "code",
   "execution_count": 11,
   "id": "3cef4ec9-cb64-421f-a677-88d6feb4f092",
   "metadata": {
    "tags": []
   },
   "outputs": [
    {
     "name": "stdout",
     "output_type": "stream",
     "text": [
      "John\n",
      "18\n"
     ]
    },
    {
     "data": {
      "text/plain": [
       "3 <nil>"
      ]
     },
     "execution_count": 11,
     "metadata": {},
     "output_type": "execute_result"
    }
   ],
   "source": [
    "var user User\n",
    "user.Name =\"John\"\n",
    "user.Age = 18\n",
    "\n",
    "fmt.Println(user.Name)\n",
    "fmt.Println(user.Age)"
   ]
  },
  {
   "cell_type": "code",
   "execution_count": 12,
   "id": "44314d85-4b5d-4803-9618-bdae1afd0889",
   "metadata": {
    "tags": []
   },
   "outputs": [
    {
     "name": "stdout",
     "output_type": "stream",
     "text": [
      "{Samantha 21}\n",
      "Samantha\n",
      "21\n"
     ]
    },
    {
     "data": {
      "text/plain": [
       "3 <nil>"
      ]
     },
     "execution_count": 12,
     "metadata": {},
     "output_type": "execute_result"
    }
   ],
   "source": [
    "user := User {\n",
    "    Name: \"Samantha\",\n",
    "    Age: 21,\n",
    "}\n",
    "\n",
    "fmt.Println(user)\n",
    "fmt.Println(user.Name)\n",
    "fmt.Println(user.Age)"
   ]
  },
  {
   "cell_type": "code",
   "execution_count": 13,
   "id": "4cebe364-1f32-4e22-9b21-78d2be9555e2",
   "metadata": {
    "tags": []
   },
   "outputs": [
    {
     "name": "stdout",
     "output_type": "stream",
     "text": [
      "Marine\n"
     ]
    }
   ],
   "source": [
    "func showName(user *User) {\n",
    "    fmt.Println(user.Name)\n",
    "}\n",
    "\n",
    "user := User{\n",
    "    Name: \"Marine\",\n",
    "    Age: 30,\n",
    "}\n",
    "showName(&user)"
   ]
  },
  {
   "cell_type": "code",
   "execution_count": 14,
   "id": "7ceb5c58-9142-48fc-8ef3-ac7512f1fc30",
   "metadata": {
    "tags": []
   },
   "outputs": [],
   "source": [
    "// func (v Value) Add(n Value) Value {\n",
    "//     return v + n\n",
    "// }\n",
    "\n",
    "// v := Value(1)\n",
    "// v := v.Add(2)\n",
    "// fmt.Println(v) // 3"
   ]
  },
  {
   "cell_type": "code",
   "execution_count": null,
   "id": "c7b70428-2bad-447b-a405-474b3b374cb3",
   "metadata": {},
   "outputs": [],
   "source": []
  }
 ],
 "metadata": {
  "kernelspec": {
   "display_name": "Go",
   "language": "go",
   "name": "gophernotes"
  },
  "language_info": {
   "codemirror_mode": "",
   "file_extension": ".go",
   "mimetype": "",
   "name": "go",
   "nbconvert_exporter": "",
   "pygments_lexer": "",
   "version": "go1.20.3"
  }
 },
 "nbformat": 4,
 "nbformat_minor": 5
}
